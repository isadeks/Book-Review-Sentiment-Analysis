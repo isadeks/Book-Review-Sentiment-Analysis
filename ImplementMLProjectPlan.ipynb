{
 "cells": [
  {
   "cell_type": "markdown",
   "metadata": {},
   "source": [
    "# Lab 8: Implement Your Machine Learning Project Plan"
   ]
  },
  {
   "cell_type": "markdown",
   "metadata": {},
   "source": [
    "In this lab assignment, you will implement the machine learning project plan you created in the written assignment. You will:\n",
    "\n",
    "1. Load your data set and save it to a Pandas DataFrame.\n",
    "2. Perform exploratory data analysis on your data to determine which feature engineering and data preparation techniques you will use.\n",
    "3. Prepare your data for your model and create features and a label.\n",
    "4. Fit your model to the training data and evaluate your model.\n",
    "5. Improve your model by performing model selection and/or feature selection techniques to find best model for your problem."
   ]
  },
  {
   "cell_type": "markdown",
   "metadata": {},
   "source": [
    "### Import Packages\n",
    "\n",
    "Before you get started, import a few packages."
   ]
  },
  {
   "cell_type": "code",
   "execution_count": 1,
   "metadata": {},
   "outputs": [],
   "source": [
    "import pandas as pd\n",
    "import numpy as np\n",
    "import os \n",
    "import matplotlib.pyplot as plt\n",
    "import seaborn as sns\n",
    "import sklearn"
   ]
  },
  {
   "cell_type": "markdown",
   "metadata": {},
   "source": [
    "<b>Task:</b> In the code cell below, import additional packages that you have used in this course that you will need for this task."
   ]
  },
  {
   "cell_type": "code",
   "execution_count": 2,
   "metadata": {},
   "outputs": [],
   "source": [
    "from sklearn.feature_extraction.text import TfidfVectorizer\n",
    "import gensim\n",
    "from sklearn.neighbors import KNeighborsClassifier\n",
    "from sklearn.feature_extraction.text import TfidfVectorizer\n",
    "from sklearn.metrics import roc_auc_score\n",
    "from sklearn.model_selection import train_test_split, GridSearchCV\n",
    "from sklearn.model_selection import train_test_split, cross_val_score\n",
    "from sklearn.tree import DecisionTreeClassifier\n",
    "from sklearn.linear_model import LogisticRegression\n"
   ]
  },
  {
   "cell_type": "markdown",
   "metadata": {},
   "source": [
    "## Part 1: Load the Data Set\n",
    "\n",
    "\n",
    "You have chosen to work with one of four data sets.\n",
    "\n",
    "* The book review data set is located in file `bookReviewsData.csv`\n",
    "\n",
    "\n",
    "\n",
    "<b>Task:</b> In the code cell below, use the same method you have been using to load your data using `pd.read_csv()` and save it to DataFrame `df`."
   ]
  },
  {
   "cell_type": "code",
   "execution_count": 20,
   "metadata": {},
   "outputs": [],
   "source": [
    "filename = \"bookReviewsData.csv\"\n",
    "df = pd.read_csv(filename, header=0)"
   ]
  },
  {
   "cell_type": "markdown",
   "metadata": {},
   "source": [
    "## Part 2: Exploratory Data Analysis\n",
    "\n",
    "The next step is to inspect and analyze your data set with your machine learning problem and project plan in mind. \n",
    "\n",
    "This step will help you determine data preparation and feature engineering techniques you will need to apply to your data to build a balanced modeling data set for your problem and model. These data preparation techniques may include:\n",
    "* addressing missingness, such as replacing missing values with means\n",
    "* renaming features and labels\n",
    "* finding and replacing outliers\n",
    "* performing winsorization if needed\n",
    "* performing one-hot encoding on categorical features\n",
    "* performing vectorization for an NLP problem\n",
    "* addressing class imbalance in your data sample to promote fair AI\n",
    "\n",
    "\n",
    "Think of the different techniques you have used to inspect and analyze your data in this course. These include using Pandas to apply data filters, using the Pandas `describe()` method to get insight into key statistics for each column, using the Pandas `dtypes` property to inspect the data type of each column, and using Matplotlib and Seaborn to detect outliers and visualize relationships between features and labels. If you are working on a classification problem, use techniques you have learned to determine if there is class imbalance.\n",
    "\n",
    "\n",
    "<b>Task</b>: Use the techniques you have learned in this course to inspect and analyze your data. \n",
    "\n",
    "<b>Note</b>: You can add code cells if needed by going to the <b>Insert</b> menu and clicking on <b>Insert Cell Below</b> in the drop-drown menu."
   ]
  },
  {
   "cell_type": "code",
   "execution_count": 4,
   "metadata": {},
   "outputs": [
    {
     "name": "stdout",
     "output_type": "stream",
     "text": [
      "980\n",
      "993\n"
     ]
    }
   ],
   "source": [
    "# Checking if Data is balanced\n",
    "print(df['Positive Review'].sum())\n",
    "print(len(df) - df['Positive Review'].sum())"
   ]
  },
  {
   "cell_type": "code",
   "execution_count": 37,
   "metadata": {},
   "outputs": [
    {
     "data": {
      "text/html": [
       "<div>\n",
       "<style scoped>\n",
       "    .dataframe tbody tr th:only-of-type {\n",
       "        vertical-align: middle;\n",
       "    }\n",
       "\n",
       "    .dataframe tbody tr th {\n",
       "        vertical-align: top;\n",
       "    }\n",
       "\n",
       "    .dataframe thead th {\n",
       "        text-align: right;\n",
       "    }\n",
       "</style>\n",
       "<table border=\"1\" class=\"dataframe\">\n",
       "  <thead>\n",
       "    <tr style=\"text-align: right;\">\n",
       "      <th></th>\n",
       "      <th>Review</th>\n",
       "      <th>Positive Review</th>\n",
       "    </tr>\n",
       "  </thead>\n",
       "  <tbody>\n",
       "    <tr>\n",
       "      <th>0</th>\n",
       "      <td>I did not find this book very helpful. There i...</td>\n",
       "      <td>False</td>\n",
       "    </tr>\n",
       "    <tr>\n",
       "      <th>1</th>\n",
       "      <td>Clinton's old friend and key Russia advisor pr...</td>\n",
       "      <td>True</td>\n",
       "    </tr>\n",
       "    <tr>\n",
       "      <th>2</th>\n",
       "      <td>The novels in this series are not the escapist...</td>\n",
       "      <td>True</td>\n",
       "    </tr>\n",
       "    <tr>\n",
       "      <th>3</th>\n",
       "      <td>This book is as much about life as it is about...</td>\n",
       "      <td>True</td>\n",
       "    </tr>\n",
       "    <tr>\n",
       "      <th>4</th>\n",
       "      <td>I have been slogging through this book for wee...</td>\n",
       "      <td>False</td>\n",
       "    </tr>\n",
       "  </tbody>\n",
       "</table>\n",
       "</div>"
      ],
      "text/plain": [
       "                                              Review  Positive Review\n",
       "0  I did not find this book very helpful. There i...            False\n",
       "1  Clinton's old friend and key Russia advisor pr...             True\n",
       "2  The novels in this series are not the escapist...             True\n",
       "3  This book is as much about life as it is about...             True\n",
       "4  I have been slogging through this book for wee...            False"
      ]
     },
     "execution_count": 37,
     "metadata": {},
     "output_type": "execute_result"
    }
   ],
   "source": [
    "# Inspect head of the data\n",
    "df.head()"
   ]
  },
  {
   "cell_type": "code",
   "execution_count": 25,
   "metadata": {},
   "outputs": [
    {
     "name": "stdout",
     "output_type": "stream",
     "text": [
      "980\n",
      "980\n"
     ]
    }
   ],
   "source": [
    "positive_samples = df[df['Positive Review'] == 1]\n",
    "negative_samples = df[df['Positive Review'] == 0]\n",
    "\n",
    "# Oversample the positive class\n",
    "oversampled_positive = positive_samples.sample(n=980, replace=True, random_state=123)\n",
    "\n",
    "# Undersample the negative class to match the size of the positive class\n",
    "undersampled_negative = negative_samples.sample(n=980, random_state=123)\n",
    "\n",
    "# Concatenate the oversampled positive class with the undersampled negative class\n",
    "df = pd.concat([oversampled_positive, undersampled_negative])\n",
    "\n",
    "# Shuffle the dataset to ensure randomness\n",
    "df = df.sample(frac=1, random_state=42).reset_index(drop=True)\n",
    "\n",
    "# Checking if Data is balanced\n",
    "print(df['Positive Review'].sum())\n",
    "print(len(df) - df['Positive Review'].sum())\n"
   ]
  },
  {
   "cell_type": "code",
   "execution_count": 26,
   "metadata": {},
   "outputs": [
    {
     "data": {
      "text/plain": [
       "Review             False\n",
       "Positive Review    False\n",
       "dtype: bool"
      ]
     },
     "execution_count": 26,
     "metadata": {},
     "output_type": "execute_result"
    }
   ],
   "source": [
    "# Ensuring no null values\n",
    "df.isnull().any()"
   ]
  },
  {
   "cell_type": "code",
   "execution_count": 27,
   "metadata": {},
   "outputs": [
    {
     "data": {
      "text/plain": [
       "0    [did, not, find, this, book, very, helpful, th...\n",
       "1    [clinton, old, friend, and, key, russia, advis...\n",
       "2    [the, novels, in, this, series, are, not, the,...\n",
       "3    [this, book, is, as, much, about, life, as, it...\n",
       "4    [have, been, slogging, through, this, book, fo...\n",
       "Name: Review, dtype: object"
      ]
     },
     "execution_count": 27,
     "metadata": {},
     "output_type": "execute_result"
    }
   ],
   "source": [
    "y = df['Positive Review']\n",
    "X = df['Review']\n",
    "\n",
    "# Transforming the text to features\n",
    "original_X = X\n",
    "X = X.apply(lambda row: gensim.utils.simple_preprocess(row))\n",
    "\n",
    "X.head()"
   ]
  },
  {
   "cell_type": "code",
   "execution_count": 28,
   "metadata": {},
   "outputs": [
    {
     "data": {
      "text/plain": [
       "483     [have, yet, to, use, an, actual, phrase, from,...\n",
       "760     [am, not, going, to, repeat, other, reviewers,...\n",
       "1491    [ve, read, many, books, on, meditation, and, w...\n",
       "593     [first, read, this, book, back, in, the, mid, ...\n",
       "1115    [had, chance, to, read, this, book, cover, to,...\n",
       "Name: Review, dtype: object"
      ]
     },
     "execution_count": 28,
     "metadata": {},
     "output_type": "execute_result"
    }
   ],
   "source": [
    "# Creating training and testing data\n",
    "X_train, X_test, y_train, y_test = train_test_split(X, y, train_size=.80, random_state=1234)\n",
    "\n",
    "X_train.head()"
   ]
  },
  {
   "cell_type": "code",
   "execution_count": 29,
   "metadata": {},
   "outputs": [],
   "source": [
    "word2vec_model = gensim.models.Word2Vec(X_train,\n",
    "                                   vector_size=100,\n",
    "                                   window=5,\n",
    "                                   min_count=2)"
   ]
  },
  {
   "cell_type": "code",
   "execution_count": 30,
   "metadata": {},
   "outputs": [
    {
     "data": {
      "text/plain": [
       "9476"
      ]
     },
     "execution_count": 30,
     "metadata": {},
     "output_type": "execute_result"
    }
   ],
   "source": [
    "# Measure size of model\n",
    "len(word2vec_model.wv.key_to_index)"
   ]
  },
  {
   "cell_type": "markdown",
   "metadata": {},
   "source": [
    "## Part 3: Implement Your Project Plan\n",
    "\n",
    "<b>Task:</b> Use the rest of this notebook to carry out your project plan. You will:\n",
    "\n",
    "1. Prepare your data for your model and create features and a label.\n",
    "2. Fit your model to the training data and evaluate your model.\n",
    "3. Improve your model by performing model selection and/or feature selection techniques to find best model for your problem.\n",
    "\n",
    "\n",
    "Add code cells below and populate the notebook with commentary, code, analyses, results, and figures as you see fit."
   ]
  },
  {
   "cell_type": "code",
   "execution_count": 31,
   "metadata": {},
   "outputs": [],
   "source": [
    "# Convert features into training and testing set\n",
    "words = set(word2vec_model.wv.index_to_key)\n",
    "\n",
    "X_train = np.array([np.array([word2vec_model.wv[word] for word in words if word in training_example])\n",
    "                        for training_example in X_train], dtype=object)\n",
    "\n",
    "X_test = np.array([np.array([word2vec_model.wv[word] for word in words if word in training_example])\n",
    "                        for training_example in X_test], dtype=object)\n"
   ]
  },
  {
   "cell_type": "code",
   "execution_count": 32,
   "metadata": {},
   "outputs": [],
   "source": [
    "# Making a consistent set of features per example\n",
    "X_train_feature_vector = []\n",
    "for w in X_train:\n",
    "    if w.size:\n",
    "        X_train_feature_vector.append(w.mean(axis=0))\n",
    "    else:\n",
    "        X_train_feature_vector.append(np.zeros(100, dtype=float))\n",
    "        \n",
    "X_test_feature_vector = []\n",
    "for w in X_test:\n",
    "    if w.size:\n",
    "        X_test_feature_vector.append(w.mean(axis=0))\n",
    "    else:\n",
    "        X_test_feature_vector.append(np.zeros(100, dtype=float))"
   ]
  },
  {
   "cell_type": "code",
   "execution_count": 33,
   "metadata": {},
   "outputs": [
    {
     "name": "stdout",
     "output_type": "stream",
     "text": [
      "Max Depth: 1 | AUC on the test data: 0.6517\n",
      "Max Depth: 2 | AUC on the test data: 0.6678\n",
      "Max Depth: 4 | AUC on the test data: 0.7526\n",
      "Max Depth: 8 | AUC on the test data: 0.7916\n",
      "Max Depth: 16 | AUC on the test data: 0.7949\n",
      "Max Depth: 32 | AUC on the test data: 0.7949\n",
      "Max Depth: 64 | AUC on the test data: 0.7949\n",
      "Max Depth: 128 | AUC on the test data: 0.7949\n"
     ]
    }
   ],
   "source": [
    "roc_scores = []\n",
    "\n",
    "# Model Selection\n",
    "hyperparams = [2**n for n in range(0,8)]\n",
    "hyperparams\n",
    "best_md_score = 0\n",
    "\n",
    "for md in hyperparams:\n",
    "    \n",
    "    model = DecisionTreeClassifier(max_depth = md, min_samples_leaf = 40)\n",
    "\n",
    "    model.fit(X_train_feature_vector, y_train)\n",
    "    # 2. Make predictions on the transformed test data using the predict_proba() method and \n",
    "    # save the values of the second column\n",
    "    probability_predictions = model.predict_proba(X_test_feature_vector)[:,1]\n",
    "\n",
    "    # 3. Make predictions on the transformed test data using the predict() method \n",
    "    class_label_predictions = model.predict(X_test_feature_vector)\n",
    "\n",
    "    # 4. Compute the Area Under the ROC curve (AUC) for the test data. Note that this time we are using one \n",
    "    # function 'roc_auc_score()' to compute the auc rather than using both 'roc_curve()' and 'auc()' as we have \n",
    "    # done in the past\n",
    "    auc = roc_auc_score(y_test, probability_predictions)\n",
    "    print('Max Depth: {0} | AUC on the test data: {1:.4f}'.format(md,auc))\n",
    "    \n",
    "    best_md_score = max(best_md_score,auc)\n",
    "\n",
    "roc_scores.append(best_md_score) \n"
   ]
  },
  {
   "cell_type": "code",
   "execution_count": 34,
   "metadata": {},
   "outputs": [
    {
     "name": "stdout",
     "output_type": "stream",
     "text": [
      "C= 1e-10 | AUC on the test data: 0.6424\n",
      "C= 1e-09 | AUC on the test data: 0.6424\n",
      "C= 1e-08 | AUC on the test data: 0.6451\n",
      "C= 1e-07 | AUC on the test data: 0.6451\n",
      "C= 1e-06 | AUC on the test data: 0.6451\n",
      "C= 1e-05 | AUC on the test data: 0.6451\n",
      "C= 0.0001 | AUC on the test data: 0.6451\n",
      "C= 0.001 | AUC on the test data: 0.6459\n",
      "C= 0.01 | AUC on the test data: 0.6478\n",
      "C= 0.1 | AUC on the test data: 0.6625\n",
      "C= 1 | AUC on the test data: 0.7109\n",
      "C= 10 | AUC on the test data: 0.7576\n",
      "C= 100 | AUC on the test data: 0.7894\n",
      "C= 1000 | AUC on the test data: 0.8217\n",
      "C= 10000 | AUC on the test data: 0.8376\n",
      "C= 100000 | AUC on the test data: 0.8388\n",
      "C= 1000000 | AUC on the test data: 0.8396\n",
      "C= 10000000 | AUC on the test data: 0.8396\n",
      "C= 100000000 | AUC on the test data: 0.8393\n",
      "C= 1000000000 | AUC on the test data: 0.8392\n"
     ]
    }
   ],
   "source": [
    "hyperparams = [10**i for i in range(-10,10)]\n",
    "accuracy_scores = []\n",
    "\n",
    "best_C_score = 0\n",
    "\n",
    "for c in hyperparams:\n",
    "    \n",
    "    model = LogisticRegression(C=c, max_iter = 10000)\n",
    "    model.fit(X_train_feature_vector, y_train)\n",
    "    # 2. Make predictions on the transformed test data using the predict_proba() method and \n",
    "    # save the values of the second column\n",
    "    probability_predictions = model.predict_proba(X_test_feature_vector)[:,1]\n",
    "\n",
    "    # 3. Make predictions on the transformed test data using the predict() method \n",
    "    class_label_predictions = model.predict(X_test_feature_vector)\n",
    "\n",
    "    # 4. Compute the Area Under the ROC curve (AUC) for the test data. Note that this time we are using one \n",
    "    # function 'roc_auc_score()' to compute the auc rather than using both 'roc_curve()' and 'auc()' as we have \n",
    "    # done in the past\n",
    "    auc = roc_auc_score(y_test, probability_predictions)\n",
    "    print('C= {0} | AUC on the test data: {1:.4f}'.format(c,auc))\n",
    "    \n",
    "    best_C_score = max(best_C_score,auc)\n",
    "\n",
    "roc_scores.append(best_C_score)  "
   ]
  },
  {
   "cell_type": "code",
   "execution_count": 35,
   "metadata": {},
   "outputs": [
    {
     "name": "stdout",
     "output_type": "stream",
     "text": [
      "Neighbors= 1 | AUC on the test data: 0.9130\n",
      "Neighbors= 3 | AUC on the test data: 0.9035\n",
      "Neighbors= 5 | AUC on the test data: 0.8738\n",
      "Neighbors= 7 | AUC on the test data: 0.8379\n",
      "Neighbors= 9 | AUC on the test data: 0.8205\n",
      "Neighbors= 11 | AUC on the test data: 0.8004\n",
      "Neighbors= 13 | AUC on the test data: 0.7783\n",
      "Neighbors= 15 | AUC on the test data: 0.7700\n",
      "Neighbors= 17 | AUC on the test data: 0.7740\n",
      "Neighbors= 19 | AUC on the test data: 0.7741\n",
      "Neighbors= 21 | AUC on the test data: 0.7719\n",
      "Neighbors= 23 | AUC on the test data: 0.7602\n",
      "Neighbors= 25 | AUC on the test data: 0.7565\n",
      "Neighbors= 27 | AUC on the test data: 0.7572\n",
      "Neighbors= 29 | AUC on the test data: 0.7538\n",
      "Neighbors= 31 | AUC on the test data: 0.7499\n",
      "Neighbors= 33 | AUC on the test data: 0.7447\n",
      "Neighbors= 35 | AUC on the test data: 0.7491\n",
      "Neighbors= 37 | AUC on the test data: 0.7456\n",
      "Neighbors= 39 | AUC on the test data: 0.7460\n",
      "Neighbors= 41 | AUC on the test data: 0.7483\n",
      "Neighbors= 43 | AUC on the test data: 0.7537\n",
      "Neighbors= 45 | AUC on the test data: 0.7553\n",
      "Neighbors= 47 | AUC on the test data: 0.7516\n",
      "Neighbors= 49 | AUC on the test data: 0.7585\n"
     ]
    }
   ],
   "source": [
    "hyperparams = [n for n in range(1,50,2)]\n",
    "hyperparams\n",
    "best_k_score = 0\n",
    "\n",
    "for k in hyperparams:\n",
    "    model = KNeighborsClassifier(n_neighbors=k)\n",
    "    model.fit(X_train_feature_vector, y_train)\n",
    "    # 2. Make predictions on the transformed test data using the predict_proba() method and \n",
    "    # save the values of the second column\n",
    "    probability_predictions = model.predict_proba(X_test_feature_vector)[:,1]\n",
    "\n",
    "    # 3. Make predictions on the transformed test data using the predict() method \n",
    "    class_label_predictions = model.predict(X_test_feature_vector)\n",
    "\n",
    "    # 4. Compute the Area Under the ROC curve (AUC) for the test data. Note that this time we are using one \n",
    "    # function 'roc_auc_score()' to compute the auc rather than using both 'roc_curve()' and 'auc()' as we have \n",
    "    # done in the past\n",
    "    auc = roc_auc_score(y_test, probability_predictions)\n",
    "    print('Neighbors= {0} | AUC on the test data: {1:.4f}'.format(k,auc))\n",
    "    best_k_score = max(best_k_score,auc)\n",
    "\n",
    "roc_scores.append(best_k_score) "
   ]
  },
  {
   "cell_type": "code",
   "execution_count": 36,
   "metadata": {},
   "outputs": [
    {
     "data": {
      "image/png": "[encoded data removed]",
      "text/plain": [
       "<Figure size 640x480 with 1 Axes>"
      ]
     },
     "metadata": {},
     "output_type": "display_data"
    }
   ],
   "source": [
    "labels = ['LR', 'DT', 'KNN']\n",
    "\n",
    "rg = np.arange(3)\n",
    "width = 0.35\n",
    "\n",
    "fig, ax = plt.subplots()\n",
    "bars = ax.bar(rg, roc_scores, width, label=\"AUC\")\n",
    "\n",
    "# Adding labels on top of each bar\n",
    "for bar, score in zip(bars, roc_scores):\n",
    "    ax.text(bar.get_x() + bar.get_width() / 2, bar.get_height(), f'{score:.2f}', ha='center', va='bottom')\n",
    "\n",
    "plt.xticks(rg, labels)\n",
    "plt.xlabel(\"Models\")\n",
    "plt.ylabel(\"AUC\")\n",
    "plt.ylim([0.5, 1])\n",
    "\n",
    "plt.title('Model Performance')\n",
    "plt.legend(loc='upper left', ncol=2)\n",
    "plt.show()"
   ]
  }
 ],
 "metadata": {
  "kernelspec": {
   "display_name": "Python 3",
   "language": "python",
   "name": "python3"
  },
  "language_info": {
   "codemirror_mode": {
    "name": "ipython",
    "version": 3
   },
   "file_extension": ".py",
   "mimetype": "text/x-python",
   "name": "python",
   "nbconvert_exporter": "python",
   "pygments_lexer": "ipython3",
   "version": "3.9.13"
  },
  "toc": {
   "base_numbering": 1,
   "nav_menu": {},
   "number_sections": false,
   "sideBar": true,
   "skip_h1_title": false,
   "title_cell": "Table of Contents",
   "title_sidebar": "Contents",
   "toc_cell": false,
   "toc_position": {},
   "toc_section_display": true,
   "toc_window_display": false
  },
  "varInspector": {
   "cols": {
    "lenName": 16,
    "lenType": 16,
    "lenVar": 40
   },
   "kernels_config": {
    "python": {
     "delete_cmd_postfix": "",
     "delete_cmd_prefix": "del ",
     "library": "var_list.py",
     "varRefreshCmd": "print(var_dic_list())"
    },
    "r": {
     "delete_cmd_postfix": ") ",
     "delete_cmd_prefix": "rm(",
     "library": "var_list.r",
     "varRefreshCmd": "cat(var_dic_list()) "
    }
   },
   "types_to_exclude": [
    "module",
    "function",
    "builtin_function_or_method",
    "instance",
    "_Feature"
   ],
   "window_display": false
  }
 },
 "nbformat": 4,
 "nbformat_minor": 2
}
