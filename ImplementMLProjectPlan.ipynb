{
 "cells": [
  {
   "cell_type": "markdown",
   "metadata": {},
   "source": [
    "# Lab 8: Implement Your Machine Learning Project Plan"
   ]
  },
  {
   "cell_type": "markdown",
   "metadata": {},
   "source": [
    "In this lab assignment, you will implement the machine learning project plan you created in the written assignment. You will:\n",
    "\n",
    "1. Load your data set and save it to a Pandas DataFrame.\n",
    "2. Perform exploratory data analysis on your data to determine which feature engineering and data preparation techniques you will use.\n",
    "3. Prepare your data for your model and create features and a label.\n",
    "4. Fit your model to the training data and evaluate your model.\n",
    "5. Improve your model by performing model selection and/or feature selection techniques to find best model for your problem."
   ]
  },
  {
   "cell_type": "markdown",
   "metadata": {},
   "source": [
    "### Import Packages\n",
    "\n",
    "Before you get started, import a few packages."
   ]
  },
  {
   "cell_type": "code",
   "execution_count": 2,
   "metadata": {},
   "outputs": [],
   "source": [
    "import pandas as pd\n",
    "import numpy as np\n",
    "import os \n",
    "import matplotlib.pyplot as plt\n",
    "import seaborn as sns"
   ]
  },
  {
   "cell_type": "markdown",
   "metadata": {},
   "source": [
    "<b>Task:</b> In the code cell below, import additional packages that you have used in this course that you will need for this task."
   ]
  },
  {
   "cell_type": "code",
   "execution_count": 41,
   "metadata": {},
   "outputs": [],
   "source": [
    "from sklearn.feature_extraction.text import TfidfVectorizer\n",
    "import gensim\n",
    "from sklearn.neighbors import KNeighborsClassifier\n",
    "from sklearn.feature_extraction.text import TfidfVectorizer\n",
    "from sklearn.metrics import plot_roc_curve, accuracy_score, roc_auc_score\n",
    "from sklearn.model_selection import train_test_split, GridSearchCV\n",
    "from sklearn.model_selection import train_test_split, cross_val_score\n",
    "from sklearn.tree import DecisionTreeClassifier, DecisionTreeRegressor\n",
    "from sklearn.metrics import mean_squared_error, r2_score\n",
    "from sklearn.linear_model import LogisticRegression\n"
   ]
  },
  {
   "cell_type": "markdown",
   "metadata": {},
   "source": [
    "## Part 1: Load the Data Set\n",
    "\n",
    "\n",
    "You have chosen to work with one of four data sets. The data sets are located in a folder named \"data.\" The file names of the three data sets are as follows:\n",
    "\n",
    "* The \"adult\" data set that contains Census information from 1994 is located in file `adultData.csv`\n",
    "* The airbnb NYC \"listings\" data set is located in file  `airbnbListingsData.csv`\n",
    "* The World Happiness Report (WHR) data set is located in file `WHR2018Chapter2OnlineData.csv`\n",
    "* The book review data set is located in file `bookReviewsData.csv`\n",
    "\n",
    "\n",
    "\n",
    "<b>Task:</b> In the code cell below, use the same method you have been using to load your data using `pd.read_csv()` and save it to DataFrame `df`."
   ]
  },
  {
   "cell_type": "code",
   "execution_count": 4,
   "metadata": {},
   "outputs": [],
   "source": [
    "adultDataSet_filename = os.path.join(os.getcwd(), \"data\", \"adultData.csv\")\n",
    "airbnbDataSet_filename = os.path.join(os.getcwd(), \"data\", \"airbnbListingsData.csv\")\n",
    "WHRDataSet_filename = os.path.join(os.getcwd(), \"data\", \"WHR2018Chapter2OnlineData.csv\")\n",
    "bookReviewDataSet_filename = os.path.join(os.getcwd(), \"data\", \"bookReviewsData.csv\")\n",
    "filename = os.path.join(os.getcwd(), \"data\", \"bookReviewsData.csv\")\n",
    "df = pd.read_csv(filename, header=0)"
   ]
  },
  {
   "cell_type": "markdown",
   "metadata": {},
   "source": [
    "## Part 2: Exploratory Data Analysis\n",
    "\n",
    "The next step is to inspect and analyze your data set with your machine learning problem and project plan in mind. \n",
    "\n",
    "This step will help you determine data preparation and feature engineering techniques you will need to apply to your data to build a balanced modeling data set for your problem and model. These data preparation techniques may include:\n",
    "* addressing missingness, such as replacing missing values with means\n",
    "* renaming features and labels\n",
    "* finding and replacing outliers\n",
    "* performing winsorization if needed\n",
    "* performing one-hot encoding on categorical features\n",
    "* performing vectorization for an NLP problem\n",
    "* addressing class imbalance in your data sample to promote fair AI\n",
    "\n",
    "\n",
    "Think of the different techniques you have used to inspect and analyze your data in this course. These include using Pandas to apply data filters, using the Pandas `describe()` method to get insight into key statistics for each column, using the Pandas `dtypes` property to inspect the data type of each column, and using Matplotlib and Seaborn to detect outliers and visualize relationships between features and labels. If you are working on a classification problem, use techniques you have learned to determine if there is class imbalance.\n",
    "\n",
    "\n",
    "<b>Task</b>: Use the techniques you have learned in this course to inspect and analyze your data. \n",
    "\n",
    "<b>Note</b>: You can add code cells if needed by going to the <b>Insert</b> menu and clicking on <b>Insert Cell Below</b> in the drop-drown menu."
   ]
  },
  {
   "cell_type": "code",
   "execution_count": 5,
   "metadata": {},
   "outputs": [
    {
     "name": "stdout",
     "output_type": "stream",
     "text": [
      "980\n",
      "993\n"
     ]
    }
   ],
   "source": [
    "# Checking if Data is balanced\n",
    "print(df['Positive Review'].sum())\n",
    "print(len(df) - df['Positive Review'].sum())"
   ]
  },
  {
   "cell_type": "code",
   "execution_count": 6,
   "metadata": {},
   "outputs": [
    {
     "data": {
      "text/plain": [
       "Review             False\n",
       "Positive Review    False\n",
       "dtype: bool"
      ]
     },
     "execution_count": 6,
     "metadata": {},
     "output_type": "execute_result"
    }
   ],
   "source": [
    "# Ensuring no null values\n",
    "df.isnull().any()"
   ]
  },
  {
   "cell_type": "code",
   "execution_count": 7,
   "metadata": {},
   "outputs": [
    {
     "data": {
      "text/plain": [
       "0    [this, was, perhaps, the, best, of, johannes, ...\n",
       "1    [this, very, fascinating, book, is, story, wri...\n",
       "2    [the, four, tales, in, this, collection, are, ...\n",
       "3    [the, book, contained, more, profanity, than, ...\n",
       "4    [we, have, now, entered, second, time, of, dee...\n",
       "Name: Review, dtype: object"
      ]
     },
     "execution_count": 7,
     "metadata": {},
     "output_type": "execute_result"
    }
   ],
   "source": [
    "y = df['Positive Review']\n",
    "X = df['Review']\n",
    "\n",
    "# Transforming the text to features\n",
    "original_X = X\n",
    "X = X.apply(lambda row: gensim.utils.simple_preprocess(row))\n",
    "\n",
    "X.head()"
   ]
  },
  {
   "cell_type": "code",
   "execution_count": 8,
   "metadata": {},
   "outputs": [
    {
     "data": {
      "text/plain": [
       "1369    [as, my, brother, said, when, flipping, throug...\n",
       "1366    [cooper, book, is, yet, another, warm, and, fu...\n",
       "385     [have, many, robot, books, and, this, is, the,...\n",
       "750     [as, china, re, emerges, as, dominant, power, ...\n",
       "643     [have, been, huge, fan, of, michael, crichton,...\n",
       "Name: Review, dtype: object"
      ]
     },
     "execution_count": 8,
     "metadata": {},
     "output_type": "execute_result"
    }
   ],
   "source": [
    "# Creating training and testing data\n",
    "X_train, X_test, y_train, y_test = train_test_split(X, y, train_size=.80, random_state=1234)\n",
    "\n",
    "X_train.head()"
   ]
  },
  {
   "cell_type": "code",
   "execution_count": 9,
   "metadata": {},
   "outputs": [],
   "source": [
    "word2vec_model = gensim.models.Word2Vec(X_train,\n",
    "                                   vector_size=100,\n",
    "                                   window=5,\n",
    "                                   min_count=2)"
   ]
  },
  {
   "cell_type": "code",
   "execution_count": 10,
   "metadata": {},
   "outputs": [
    {
     "data": {
      "text/plain": [
       "10354"
      ]
     },
     "execution_count": 10,
     "metadata": {},
     "output_type": "execute_result"
    }
   ],
   "source": [
    "# Measure size of model\n",
    "len(word2vec_model.wv.key_to_index)"
   ]
  },
  {
   "cell_type": "markdown",
   "metadata": {},
   "source": [
    "## Part 3: Implement Your Project Plan\n",
    "\n",
    "<b>Task:</b> Use the rest of this notebook to carry out your project plan. You will:\n",
    "\n",
    "1. Prepare your data for your model and create features and a label.\n",
    "2. Fit your model to the training data and evaluate your model.\n",
    "3. Improve your model by performing model selection and/or feature selection techniques to find best model for your problem.\n",
    "\n",
    "\n",
    "Add code cells below and populate the notebook with commentary, code, analyses, results, and figures as you see fit."
   ]
  },
  {
   "cell_type": "code",
   "execution_count": 11,
   "metadata": {},
   "outputs": [],
   "source": [
    "# Convert features into training and testing set\n",
    "words = set(word2vec_model.wv.index_to_key)\n",
    "\n",
    "X_train = np.array([np.array([word2vec_model.wv[word] for word in words if word in training_example])\n",
    "                        for training_example in X_train], dtype=object)\n",
    "\n",
    "X_test = np.array([np.array([word2vec_model.wv[word] for word in words if word in training_example])\n",
    "                        for training_example in X_test], dtype=object)\n"
   ]
  },
  {
   "cell_type": "code",
   "execution_count": 12,
   "metadata": {},
   "outputs": [],
   "source": [
    "# Making a consistent set of features per example\n",
    "X_train_feature_vector = []\n",
    "for w in X_train:\n",
    "    if w.size:\n",
    "        X_train_feature_vector.append(w.mean(axis=0))\n",
    "    else:\n",
    "        X_train_feature_vector.append(np.zeros(100, dtype=float))\n",
    "        \n",
    "X_test_feature_vector = []\n",
    "for w in X_test:\n",
    "    if w.size:\n",
    "        X_test_feature_vector.append(w.mean(axis=0))\n",
    "    else:\n",
    "        X_test_feature_vector.append(np.zeros(100, dtype=float))"
   ]
  },
  {
   "cell_type": "code",
   "execution_count": 35,
   "metadata": {},
   "outputs": [
    {
     "name": "stdout",
     "output_type": "stream",
     "text": [
      "Accuracy score for max_depth 1: 0.5754149085794655\n",
      "Accuracy score for max_depth 2: 0.6007675306409485\n",
      "Accuracy score for max_depth 4: 0.5842616033755273\n",
      "Accuracy score for max_depth 8: 0.57541289933695\n",
      "Accuracy score for max_depth 16: 0.5640204942736589\n",
      "Accuracy score for max_depth 32: 0.5576933895921238\n",
      "Accuracy score for max_depth 64: 0.5652903355435\n",
      "Accuracy score for max_depth 128: 0.5519750853928069\n"
     ]
    }
   ],
   "source": [
    "# Model Selection\n",
    "hyperparams = [2**n for n in range(2,8)]\n",
    "hyperparams\n",
    "accuracy_scores = []\n",
    "\n",
    "for md in hyperparams:\n",
    "    \n",
    "    model = DecisionTreeClassifier(max_depth = md, min_samples_leaf = 1)\n",
    "    \n",
    "    acc_score = cross_val_score(model, X_train_feature_vector, y_train, cv=5)\n",
    "    \n",
    "    acc_mean = np.mean(acc_score)\n",
    "    \n",
    "    accuracy_scores.append(acc_mean)\n",
    "\n",
    "for s in range(len(accuracy_scores)):\n",
    "    print('Accuracy score for max_depth {0}: {1}'.format(hyperparams[s], accuracy_scores[s]))"
   ]
  },
  {
   "cell_type": "code",
   "execution_count": 33,
   "metadata": {},
   "outputs": [
    {
     "name": "stdout",
     "output_type": "stream",
     "text": [
      "Accuracy score for max_depth 200: 0.5969660438014868\n",
      "Accuracy score for max_depth 300: 0.5969660438014868\n",
      "Accuracy score for max_depth 400: 0.5969660438014868\n",
      "Accuracy score for max_depth 500: 0.5969660438014868\n",
      "Accuracy score for max_depth 600: 0.5969660438014868\n",
      "Accuracy score for max_depth 700: 0.5969660438014868\n"
     ]
    }
   ],
   "source": [
    "hyperparams = [100*n for n in range(2,8)]\n",
    "hyperparams\n",
    "accuracy_scores = []\n",
    "\n",
    "for m_iter in hyperparams:\n",
    "\n",
    "    model = LogisticRegression(max_iter=m_iter)\n",
    "    model.fit(X_train_feature_vector, y_train)\n",
    "\n",
    "    acc_score = cross_val_score(model, X_train_feature_vector, y_train, cv=5)\n",
    "    \n",
    "    acc_mean = np.mean(acc_score)\n",
    "    \n",
    "    accuracy_scores.append(acc_mean)\n",
    "    \n",
    "for s in range(len(accuracy_scores)):\n",
    "    print('Accuracy score for max_depth {0}: {1}'.format(hyperparams[s], accuracy_scores[s]))    "
   ]
  },
  {
   "cell_type": "code",
   "execution_count": 44,
   "metadata": {},
   "outputs": [
    {
     "name": "stdout",
     "output_type": "stream",
     "text": [
      "Accuracy score for max_depth 2: 0.5507052441229657\n",
      "Accuracy score for max_depth 3: 0.5583001808318263\n",
      "Accuracy score for max_depth 4: 0.5462748643761302\n",
      "Accuracy score for max_depth 5: 0.5621076953988347\n",
      "Accuracy score for max_depth 6: 0.5627285513361462\n",
      "Accuracy score for max_depth 7: 0.574765923246936\n",
      "Accuracy score for max_depth 8: 0.5513281093027929\n",
      "Accuracy score for max_depth 9: 0.5602190074341974\n",
      "Accuracy score for max_depth 10: 0.5658870805706249\n",
      "Accuracy score for max_depth 11: 0.5608298171589311\n",
      "Accuracy score for max_depth 12: 0.5677878239903557\n",
      "Accuracy score for max_depth 13: 0.565905163753265\n",
      "Accuracy score for max_depth 14: 0.5671830419931687\n",
      "Accuracy score for max_depth 15: 0.566562186055857\n",
      "Accuracy score for max_depth 16: 0.5652822985734379\n",
      "Accuracy score for max_depth 17: 0.5608519188266022\n",
      "Accuracy score for max_depth 18: 0.5583001808318263\n",
      "Accuracy score for max_depth 19: 0.5684528832630098\n",
      "Accuracy score for max_depth 20: 0.572875226039783\n",
      "Accuracy score for max_depth 21: 0.5747719509744826\n",
      "Accuracy score for max_depth 22: 0.5646252762708459\n",
      "Accuracy score for max_depth 23: 0.5608358448864778\n",
      "Accuracy score for max_depth 24: 0.5646232670283304\n",
      "Accuracy score for max_depth 25: 0.5697066505927266\n",
      "Accuracy score for max_depth 26: 0.5766646574241511\n",
      "Accuracy score for max_depth 27: 0.5709704641350212\n",
      "Accuracy score for max_depth 28: 0.5785794655414909\n",
      "Accuracy score for max_depth 29: 0.5754169178219811\n"
     ]
    }
   ],
   "source": [
    "hyperparams = [n for n in range(2,30)]\n",
    "hyperparams\n",
    "accuracy_scores = []\n",
    "\n",
    "for k in hyperparams:\n",
    "\n",
    "    model = KNeighborsClassifier(n_neighbors=k)\n",
    "    model.fit(X_train_feature_vector, y_train)\n",
    "\n",
    "    acc_score = cross_val_score(model, X_train_feature_vector, y_train, cv=5)\n",
    "    \n",
    "    acc_mean = np.mean(acc_score)\n",
    "    \n",
    "    accuracy_scores.append(acc_mean)\n",
    "    \n",
    "for s in range(len(accuracy_scores)):\n",
    "    print('Accuracy score for max_depth {0}: {1}'.format(hyperparams[s], accuracy_scores[s]))"
   ]
  },
  {
   "cell_type": "raw",
   "metadata": {},
   "source": [
    "The model that gave the highest accuracy was decision tree and lowest was KNN. The logistic regression model reported the same accuracy despite different max_iter hyperparameter values. Overall though all three models are not best performing for this dataset based on the accuracy scores."
   ]
  }
 ],
 "metadata": {
  "kernelspec": {
   "display_name": "Python 3",
   "language": "python",
   "name": "python3"
  },
  "language_info": {
   "codemirror_mode": {
    "name": "ipython",
    "version": 3
   },
   "file_extension": ".py",
   "mimetype": "text/x-python",
   "name": "python",
   "nbconvert_exporter": "python",
   "pygments_lexer": "ipython3",
   "version": "3.6.9"
  },
  "toc": {
   "base_numbering": 1,
   "nav_menu": {},
   "number_sections": false,
   "sideBar": true,
   "skip_h1_title": false,
   "title_cell": "Table of Contents",
   "title_sidebar": "Contents",
   "toc_cell": false,
   "toc_position": {},
   "toc_section_display": true,
   "toc_window_display": false
  },
  "varInspector": {
   "cols": {
    "lenName": 16,
    "lenType": 16,
    "lenVar": 40
   },
   "kernels_config": {
    "python": {
     "delete_cmd_postfix": "",
     "delete_cmd_prefix": "del ",
     "library": "var_list.py",
     "varRefreshCmd": "print(var_dic_list())"
    },
    "r": {
     "delete_cmd_postfix": ") ",
     "delete_cmd_prefix": "rm(",
     "library": "var_list.r",
     "varRefreshCmd": "cat(var_dic_list()) "
    }
   },
   "types_to_exclude": [
    "module",
    "function",
    "builtin_function_or_method",
    "instance",
    "_Feature"
   ],
   "window_display": false
  }
 },
 "nbformat": 4,
 "nbformat_minor": 2
}
