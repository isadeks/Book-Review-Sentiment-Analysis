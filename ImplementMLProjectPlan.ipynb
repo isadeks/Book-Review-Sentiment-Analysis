{
 "cells": [
  {
   "cell_type": "markdown",
   "metadata": {},
   "source": [
    "# Lab 8: Implement Your Machine Learning Project Plan"
   ]
  },
  {
   "cell_type": "markdown",
   "metadata": {},
   "source": [
    "In this lab assignment, you will implement the machine learning project plan you created in the written assignment. You will:\n",
    "\n",
    "1. Load your data set and save it to a Pandas DataFrame.\n",
    "2. Perform exploratory data analysis on your data to determine which feature engineering and data preparation techniques you will use.\n",
    "3. Prepare your data for your model and create features and a label.\n",
    "4. Fit your model to the training data and evaluate your model.\n",
    "5. Improve your model by performing model selection and/or feature selection techniques to find best model for your problem."
   ]
  },
  {
   "cell_type": "markdown",
   "metadata": {},
   "source": [
    "### Import Packages\n",
    "\n",
    "Before you get started, import a few packages."
   ]
  },
  {
   "cell_type": "code",
   "execution_count": 1,
   "metadata": {},
   "outputs": [],
   "source": [
    "import pandas as pd\n",
    "import numpy as np\n",
    "import os \n",
    "import matplotlib.pyplot as plt\n",
    "import seaborn as sns\n",
    "import sklearn"
   ]
  },
  {
   "cell_type": "markdown",
   "metadata": {},
   "source": [
    "<b>Task:</b> In the code cell below, import additional packages that you have used in this course that you will need for this task."
   ]
  },
  {
   "cell_type": "code",
   "execution_count": 3,
   "metadata": {},
   "outputs": [],
   "source": [
    "from sklearn.feature_extraction.text import TfidfVectorizer\n",
    "import gensim\n",
    "from sklearn.neighbors import KNeighborsClassifier\n",
    "from sklearn.feature_extraction.text import TfidfVectorizer\n",
    "from sklearn.metrics import roc_auc_score\n",
    "from sklearn.model_selection import train_test_split, GridSearchCV\n",
    "from sklearn.model_selection import train_test_split, cross_val_score\n",
    "from sklearn.tree import DecisionTreeClassifier\n",
    "from sklearn.linear_model import LogisticRegression\n"
   ]
  },
  {
   "cell_type": "markdown",
   "metadata": {},
   "source": [
    "## Part 1: Load the Data Set\n",
    "\n",
    "\n",
    "You have chosen to work with one of four data sets.\n",
    "\n",
    "* The book review data set is located in file `bookReviewsData.csv`\n",
    "\n",
    "\n",
    "\n",
    "<b>Task:</b> In the code cell below, use the same method you have been using to load your data using `pd.read_csv()` and save it to DataFrame `df`."
   ]
  },
  {
   "cell_type": "code",
   "execution_count": 4,
   "metadata": {},
   "outputs": [],
   "source": [
    "filename = \"bookReviewsData.csv\"\n",
    "df = pd.read_csv(filename, header=0)"
   ]
  },
  {
   "cell_type": "markdown",
   "metadata": {},
   "source": [
    "## Part 2: Exploratory Data Analysis\n",
    "\n",
    "The next step is to inspect and analyze your data set with your machine learning problem and project plan in mind. \n",
    "\n",
    "This step will help you determine data preparation and feature engineering techniques you will need to apply to your data to build a balanced modeling data set for your problem and model. These data preparation techniques may include:\n",
    "* addressing missingness, such as replacing missing values with means\n",
    "* renaming features and labels\n",
    "* finding and replacing outliers\n",
    "* performing winsorization if needed\n",
    "* performing one-hot encoding on categorical features\n",
    "* performing vectorization for an NLP problem\n",
    "* addressing class imbalance in your data sample to promote fair AI\n",
    "\n",
    "\n",
    "Think of the different techniques you have used to inspect and analyze your data in this course. These include using Pandas to apply data filters, using the Pandas `describe()` method to get insight into key statistics for each column, using the Pandas `dtypes` property to inspect the data type of each column, and using Matplotlib and Seaborn to detect outliers and visualize relationships between features and labels. If you are working on a classification problem, use techniques you have learned to determine if there is class imbalance.\n",
    "\n",
    "\n",
    "<b>Task</b>: Use the techniques you have learned in this course to inspect and analyze your data. \n",
    "\n",
    "<b>Note</b>: You can add code cells if needed by going to the <b>Insert</b> menu and clicking on <b>Insert Cell Below</b> in the drop-drown menu."
   ]
  },
  {
   "cell_type": "code",
   "execution_count": 107,
   "metadata": {},
   "outputs": [
    {
     "name": "stdout",
     "output_type": "stream",
     "text": [
      "980\n",
      "993\n"
     ]
    }
   ],
   "source": [
    "# Checking if Data is balanced\n",
    "print(df['Positive Review'].sum())\n",
    "print(len(df) - df['Positive Review'].sum())"
   ]
  },
  {
   "cell_type": "code",
   "execution_count": 138,
   "metadata": {},
   "outputs": [
    {
     "name": "stdout",
     "output_type": "stream",
     "text": [
      "980\n",
      "980\n"
     ]
    }
   ],
   "source": [
    "positive_samples = df[df['Positive Review'] == 1]\n",
    "negative_samples = df[df['Positive Review'] == 0]\n",
    "\n",
    "# Oversample the positive class\n",
    "oversampled_positive = positive_samples.sample(n=980, replace=True, random_state=123)\n",
    "\n",
    "# Concatenate the oversampled positive class with the original negative class\n",
    "balanced_df = pd.concat([oversampled_positive, negative_samples])\n",
    "\n",
    "# Shuffle the dataset to ensure randomness\n",
    "df = balanced_df.sample(frac=1, random_state=42).reset_index(drop=True)\n",
    "\n",
    "# Checking again if Data is balanced\n",
    "print(df['Positive Review'].sum())\n",
    "print(len(df) - df['Positive Review'].sum())"
   ]
  },
  {
   "cell_type": "code",
   "execution_count": 139,
   "metadata": {},
   "outputs": [
    {
     "data": {
      "text/plain": [
       "Review             False\n",
       "Positive Review    False\n",
       "dtype: bool"
      ]
     },
     "execution_count": 139,
     "metadata": {},
     "output_type": "execute_result"
    }
   ],
   "source": [
    "# Ensuring no null values\n",
    "df.isnull().any()"
   ]
  },
  {
   "cell_type": "code",
   "execution_count": 140,
   "metadata": {},
   "outputs": [
    {
     "data": {
      "text/plain": [
       "0    [read, this, book, on, suggestion, from, frien...\n",
       "1    [as, other, reviewers, have, stated, ludlum, p...\n",
       "2    [this, book, appears, on, most, of, the, best,...\n",
       "3    [we, love, this, book, we, have, made, many, o...\n",
       "4    [maybe, it, was, me, but, kept, wanting, this,...\n",
       "Name: Review, dtype: object"
      ]
     },
     "execution_count": 140,
     "metadata": {},
     "output_type": "execute_result"
    }
   ],
   "source": [
    "y = df['Positive Review']\n",
    "X = df['Review']\n",
    "\n",
    "# Transforming the text to features\n",
    "original_X = X\n",
    "X = X.apply(lambda row: gensim.utils.simple_preprocess(row))\n",
    "\n",
    "X.head()"
   ]
  },
  {
   "cell_type": "code",
   "execution_count": 141,
   "metadata": {},
   "outputs": [
    {
     "data": {
      "text/plain": [
       "483     [was, quite, disappointed, by, this, book, was...\n",
       "760     [found, stale, recounting, of, very, well, kno...\n",
       "1491    [ms, phillips, certainly, knows, how, to, tug,...\n",
       "593     [ripping, off, king, but, with, more, sex, sha...\n",
       "1115    [if, you, know, love, you, know, god, if, you,...\n",
       "Name: Review, dtype: object"
      ]
     },
     "execution_count": 141,
     "metadata": {},
     "output_type": "execute_result"
    }
   ],
   "source": [
    "# Creating training and testing data\n",
    "X_train, X_test, y_train, y_test = train_test_split(X, y, train_size=.80, random_state=1234)\n",
    "\n",
    "X_train.head()"
   ]
  },
  {
   "cell_type": "code",
   "execution_count": 142,
   "metadata": {},
   "outputs": [],
   "source": [
    "word2vec_model = gensim.models.Word2Vec(X_train,\n",
    "                                   vector_size=100,\n",
    "                                   window=5,\n",
    "                                   min_count=2)"
   ]
  },
  {
   "cell_type": "code",
   "execution_count": 143,
   "metadata": {},
   "outputs": [
    {
     "data": {
      "text/plain": [
       "9603"
      ]
     },
     "execution_count": 143,
     "metadata": {},
     "output_type": "execute_result"
    }
   ],
   "source": [
    "# Measure size of model\n",
    "len(word2vec_model.wv.key_to_index)"
   ]
  },
  {
   "cell_type": "markdown",
   "metadata": {},
   "source": [
    "## Part 3: Implement Your Project Plan\n",
    "\n",
    "<b>Task:</b> Use the rest of this notebook to carry out your project plan. You will:\n",
    "\n",
    "1. Prepare your data for your model and create features and a label.\n",
    "2. Fit your model to the training data and evaluate your model.\n",
    "3. Improve your model by performing model selection and/or feature selection techniques to find best model for your problem.\n",
    "\n",
    "\n",
    "Add code cells below and populate the notebook with commentary, code, analyses, results, and figures as you see fit."
   ]
  },
  {
   "cell_type": "code",
   "execution_count": 144,
   "metadata": {},
   "outputs": [],
   "source": [
    "# Convert features into training and testing set\n",
    "words = set(word2vec_model.wv.index_to_key)\n",
    "\n",
    "X_train = np.array([np.array([word2vec_model.wv[word] for word in words if word in training_example])\n",
    "                        for training_example in X_train], dtype=object)\n",
    "\n",
    "X_test = np.array([np.array([word2vec_model.wv[word] for word in words if word in training_example])\n",
    "                        for training_example in X_test], dtype=object)\n"
   ]
  },
  {
   "cell_type": "code",
   "execution_count": 145,
   "metadata": {},
   "outputs": [],
   "source": [
    "# Making a consistent set of features per example\n",
    "X_train_feature_vector = []\n",
    "for w in X_train:\n",
    "    if w.size:\n",
    "        X_train_feature_vector.append(w.mean(axis=0))\n",
    "    else:\n",
    "        X_train_feature_vector.append(np.zeros(100, dtype=float))\n",
    "        \n",
    "X_test_feature_vector = []\n",
    "for w in X_test:\n",
    "    if w.size:\n",
    "        X_test_feature_vector.append(w.mean(axis=0))\n",
    "    else:\n",
    "        X_test_feature_vector.append(np.zeros(100, dtype=float))"
   ]
  },
  {
   "cell_type": "code",
   "execution_count": 146,
   "metadata": {},
   "outputs": [
    {
     "name": "stdout",
     "output_type": "stream",
     "text": [
      "Max Depth: 1 | AUC on the test data: 0.5996\n",
      "Max Depth: 2 | AUC on the test data: 0.6451\n",
      "Max Depth: 4 | AUC on the test data: 0.6846\n",
      "Max Depth: 8 | AUC on the test data: 0.7495\n",
      "Max Depth: 16 | AUC on the test data: 0.7755\n",
      "Max Depth: 32 | AUC on the test data: 0.7696\n",
      "Max Depth: 64 | AUC on the test data: 0.7740\n",
      "Max Depth: 128 | AUC on the test data: 0.7700\n"
     ]
    }
   ],
   "source": [
    "roc_scores = []\n",
    "\n",
    "# Model Selection\n",
    "hyperparams = [2**n for n in range(0,8)]\n",
    "hyperparams\n",
    "best_md_score = 0\n",
    "\n",
    "for md in hyperparams:\n",
    "    \n",
    "    model = DecisionTreeClassifier(max_depth = md, min_samples_leaf = 40)\n",
    "\n",
    "    model.fit(X_train_feature_vector, y_train)\n",
    "    # 2. Make predictions on the transformed test data using the predict_proba() method and \n",
    "    # save the values of the second column\n",
    "    probability_predictions = model.predict_proba(X_test_feature_vector)[:,1]\n",
    "\n",
    "    # 3. Make predictions on the transformed test data using the predict() method \n",
    "    class_label_predictions = model.predict(X_test_feature_vector)\n",
    "\n",
    "    # 4. Compute the Area Under the ROC curve (AUC) for the test data. Note that this time we are using one \n",
    "    # function 'roc_auc_score()' to compute the auc rather than using both 'roc_curve()' and 'auc()' as we have \n",
    "    # done in the past\n",
    "    auc = roc_auc_score(y_test, probability_predictions)\n",
    "    print('Max Depth: {0} | AUC on the test data: {1:.4f}'.format(md,auc))\n",
    "    \n",
    "    best_md_score = max(best_md_score,auc)\n",
    "\n",
    "roc_scores.append(best_md_score) \n"
   ]
  },
  {
   "cell_type": "code",
   "execution_count": 147,
   "metadata": {},
   "outputs": [
    {
     "name": "stdout",
     "output_type": "stream",
     "text": [
      "C= 1e-10 | AUC on the test data: 0.6181\n",
      "C= 1e-09 | AUC on the test data: 0.6201\n",
      "C= 1e-08 | AUC on the test data: 0.6201\n",
      "C= 1e-07 | AUC on the test data: 0.6201\n",
      "C= 1e-06 | AUC on the test data: 0.6201\n",
      "C= 1e-05 | AUC on the test data: 0.6201\n",
      "C= 0.0001 | AUC on the test data: 0.6202\n",
      "C= 0.001 | AUC on the test data: 0.6200\n",
      "C= 0.01 | AUC on the test data: 0.6229\n",
      "C= 0.1 | AUC on the test data: 0.6295\n",
      "C= 1 | AUC on the test data: 0.6670\n",
      "C= 10 | AUC on the test data: 0.7133\n",
      "C= 100 | AUC on the test data: 0.7597\n",
      "C= 1000 | AUC on the test data: 0.7963\n",
      "C= 10000 | AUC on the test data: 0.8257\n",
      "C= 100000 | AUC on the test data: 0.8274\n",
      "C= 1000000 | AUC on the test data: 0.8268\n",
      "C= 10000000 | AUC on the test data: 0.8263\n",
      "C= 100000000 | AUC on the test data: 0.8266\n",
      "C= 1000000000 | AUC on the test data: 0.8265\n"
     ]
    }
   ],
   "source": [
    "hyperparams = [10**i for i in range(-10,10)]\n",
    "accuracy_scores = []\n",
    "\n",
    "best_C_score = 0\n",
    "\n",
    "for c in hyperparams:\n",
    "    \n",
    "    model = LogisticRegression(C=c, max_iter = 10000)\n",
    "    model.fit(X_train_feature_vector, y_train)\n",
    "    # 2. Make predictions on the transformed test data using the predict_proba() method and \n",
    "    # save the values of the second column\n",
    "    probability_predictions = model.predict_proba(X_test_feature_vector)[:,1]\n",
    "\n",
    "    # 3. Make predictions on the transformed test data using the predict() method \n",
    "    class_label_predictions = model.predict(X_test_feature_vector)\n",
    "\n",
    "    # 4. Compute the Area Under the ROC curve (AUC) for the test data. Note that this time we are using one \n",
    "    # function 'roc_auc_score()' to compute the auc rather than using both 'roc_curve()' and 'auc()' as we have \n",
    "    # done in the past\n",
    "    auc = roc_auc_score(y_test, probability_predictions)\n",
    "    print('C= {0} | AUC on the test data: {1:.4f}'.format(c,auc))\n",
    "    \n",
    "    best_C_score = max(best_C_score,auc)\n",
    "\n",
    "roc_scores.append(best_C_score)  "
   ]
  },
  {
   "cell_type": "code",
   "execution_count": 148,
   "metadata": {},
   "outputs": [
    {
     "name": "stdout",
     "output_type": "stream",
     "text": [
      "Neighbors= 10 | AUC on the test data: 0.7558\n",
      "Neighbors= 20 | AUC on the test data: 0.6964\n",
      "Neighbors= 30 | AUC on the test data: 0.6898\n",
      "Neighbors= 40 | AUC on the test data: 0.6560\n",
      "Neighbors= 50 | AUC on the test data: 0.6590\n",
      "Neighbors= 60 | AUC on the test data: 0.6585\n",
      "Neighbors= 70 | AUC on the test data: 0.6519\n",
      "Neighbors= 80 | AUC on the test data: 0.6613\n",
      "Neighbors= 90 | AUC on the test data: 0.6604\n",
      "Neighbors= 100 | AUC on the test data: 0.6647\n",
      "Neighbors= 110 | AUC on the test data: 0.6584\n",
      "Neighbors= 120 | AUC on the test data: 0.6560\n",
      "Neighbors= 130 | AUC on the test data: 0.6468\n",
      "Neighbors= 140 | AUC on the test data: 0.6388\n",
      "Neighbors= 150 | AUC on the test data: 0.6334\n",
      "Neighbors= 160 | AUC on the test data: 0.6358\n",
      "Neighbors= 170 | AUC on the test data: 0.6325\n",
      "Neighbors= 180 | AUC on the test data: 0.6318\n",
      "Neighbors= 190 | AUC on the test data: 0.6350\n"
     ]
    }
   ],
   "source": [
    "hyperparams = [n for n in range(10,200,10)]\n",
    "hyperparams\n",
    "best_k_score = 0\n",
    "\n",
    "for k in hyperparams:\n",
    "    model = KNeighborsClassifier(n_neighbors=k)\n",
    "    model.fit(X_train_feature_vector, y_train)\n",
    "    # 2. Make predictions on the transformed test data using the predict_proba() method and \n",
    "    # save the values of the second column\n",
    "    probability_predictions = model.predict_proba(X_test_feature_vector)[:,1]\n",
    "\n",
    "    # 3. Make predictions on the transformed test data using the predict() method \n",
    "    class_label_predictions = model.predict(X_test_feature_vector)\n",
    "\n",
    "    # 4. Compute the Area Under the ROC curve (AUC) for the test data. Note that this time we are using one \n",
    "    # function 'roc_auc_score()' to compute the auc rather than using both 'roc_curve()' and 'auc()' as we have \n",
    "    # done in the past\n",
    "    auc = roc_auc_score(y_test, probability_predictions)\n",
    "    print('Neighbors= {0} | AUC on the test data: {1:.4f}'.format(k,auc))\n",
    "    best_k_score = max(best_k_score,auc)\n",
    "\n",
    "roc_scores.append(best_k_score) "
   ]
  },
  {
   "cell_type": "code",
   "execution_count": 149,
   "metadata": {},
   "outputs": [
    {
     "data": {
      "image/png": "[encoded data removed]",
      "text/plain": [
       "<Figure size 640x480 with 1 Axes>"
      ]
     },
     "metadata": {},
     "output_type": "display_data"
    }
   ],
   "source": [
    "labels = ['LR', 'DT', 'KNN']\n",
    "\n",
    "rg = np.arange(3)\n",
    "width = 0.35\n",
    "\n",
    "fig, ax = plt.subplots()\n",
    "bars = ax.bar(rg, roc_scores, width, label=\"AUC\")\n",
    "\n",
    "# Adding labels on top of each bar\n",
    "for bar, score in zip(bars, roc_scores):\n",
    "    ax.text(bar.get_x() + bar.get_width() / 2, bar.get_height(), f'{score:.2f}', ha='center', va='bottom')\n",
    "\n",
    "plt.xticks(rg, labels)\n",
    "plt.xlabel(\"Models\")\n",
    "plt.ylabel(\"AUC\")\n",
    "plt.ylim([0.5, 1])\n",
    "\n",
    "plt.title('Model Performance')\n",
    "plt.legend(loc='upper left', ncol=2)\n",
    "plt.show()"
   ]
  },
  {
   "cell_type": "raw",
   "metadata": {},
   "source": []
  }
 ],
 "metadata": {
  "kernelspec": {
   "display_name": "Python 3",
   "language": "python",
   "name": "python3"
  },
  "language_info": {
   "codemirror_mode": {
    "name": "ipython",
    "version": 3
   },
   "file_extension": ".py",
   "mimetype": "text/x-python",
   "name": "python",
   "nbconvert_exporter": "python",
   "pygments_lexer": "ipython3",
   "version": "3.9.13"
  },
  "toc": {
   "base_numbering": 1,
   "nav_menu": {},
   "number_sections": false,
   "sideBar": true,
   "skip_h1_title": false,
   "title_cell": "Table of Contents",
   "title_sidebar": "Contents",
   "toc_cell": false,
   "toc_position": {},
   "toc_section_display": true,
   "toc_window_display": false
  },
  "varInspector": {
   "cols": {
    "lenName": 16,
    "lenType": 16,
    "lenVar": 40
   },
   "kernels_config": {
    "python": {
     "delete_cmd_postfix": "",
     "delete_cmd_prefix": "del ",
     "library": "var_list.py",
     "varRefreshCmd": "print(var_dic_list())"
    },
    "r": {
     "delete_cmd_postfix": ") ",
     "delete_cmd_prefix": "rm(",
     "library": "var_list.r",
     "varRefreshCmd": "cat(var_dic_list()) "
    }
   },
   "types_to_exclude": [
    "module",
    "function",
    "builtin_function_or_method",
    "instance",
    "_Feature"
   ],
   "window_display": false
  }
 },
 "nbformat": 4,
 "nbformat_minor": 2
}
